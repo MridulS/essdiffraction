{
 "cells": [
  {
   "cell_type": "markdown",
   "id": "f47beab6-47c9-4cfb-a70e-c00bc8daebef",
   "metadata": {},
   "source": [
    "# DREAM data reduction"
   ]
  },
  {
   "cell_type": "code",
   "execution_count": null,
   "id": "74b2df0c-6957-40c2-a48e-a4351547e87a",
   "metadata": {},
   "outputs": [],
   "source": [
    "from pathlib import Path\n",
    "\n",
    "import scipp as sc\n",
    "import scippneutron as scn\n",
    "import sciline\n",
    "from ess import dream, powder\n",
    "from ess.powder.types import *\n",
    "from ess.dream.io.geant4 import providers as geant4_providers"
   ]
  },
  {
   "cell_type": "code",
   "execution_count": null,
   "id": "502e77cc-0253-4e71-9d97-81ff560ef99d",
   "metadata": {},
   "outputs": [],
   "source": [
    "providers = (\n",
    "    *geant4_providers,\n",
    "    *powder.providers,\n",
    "    *dream.providers,\n",
    ")\n",
    "params = {\n",
    "    FilePath[SampleRun]: dream.data.simulated_diamond_sample(),\n",
    "    FilePath[VanadiumRun]: dream.data.simulated_vanadium_sample(),\n",
    "    FilePath[EmptyCanRun]: dream.data.simulated_empty_can(),\n",
    "    DetectorName: DetectorName('mantle'),\n",
    "\n",
    "    # The upper bounds mode is not yet implemented.\n",
    "    UncertaintyBroadcastMode: UncertaintyBroadcastMode.drop,\n",
    "\n",
    "    # Crop data to this range in time-of-flight\n",
    "    ValidTofRange: sc.array(dims=['tof'], values=[0.0, 86_000.0], unit='us'),\n",
    "\n",
    "    # Edges for binning in d-spacing\n",
    "    DspacingBins: sc.linspace('dspacing', 0.0, 2.3434, 200, unit='angstrom'),\n",
    "\n",
    "    # Not available in simulated data\n",
    "    RawSample[SampleRun]: sc.DataGroup(position=sc.vector([0., 0., 0.], unit='mm')),\n",
    "    RawSample[VanadiumRun]: sc.DataGroup(position=sc.vector([0., 0., 0.], unit='mm')),\n",
    "    RawSource: sc.DataGroup(position=sc.vector([-3.478, 0.0, -76550], unit='mm')),\n",
    "    AccumulatedProtonCharge[SampleRun]: sc.scalar(1.0, unit='µAh'),\n",
    "    AccumulatedProtonCharge[VanadiumRun]: sc.scalar(1.0, unit='µAh'),\n",
    "}"
   ]
  },
  {
   "cell_type": "code",
   "execution_count": null,
   "id": "98e99f33-6f4b-4b60-acaf-added3c6e1b0",
   "metadata": {},
   "outputs": [],
   "source": [
    "pipeline = sciline.Pipeline(providers, params=params)"
   ]
  },
  {
   "cell_type": "markdown",
   "id": "21fb4492-e836-41d3-a2d4-9678df43b9f9",
   "metadata": {},
   "source": [
    "We don't have calibration data yet.\n",
    "So convert to d-spacing without calibration."
   ]
  },
  {
   "cell_type": "code",
   "execution_count": null,
   "id": "3dd37911-7173-413f-a30b-362da8e7f326",
   "metadata": {},
   "outputs": [],
   "source": [
    "from ess.powder.conversion import to_dspacing_with_positions\n",
    "pipeline.insert(to_dspacing_with_positions)"
   ]
  },
  {
   "cell_type": "code",
   "execution_count": null,
   "id": "93f2ba0d-f256-4b64-b8fa-42cd1081cc41",
   "metadata": {},
   "outputs": [],
   "source": [
    "pipeline.visualize(DspacingHistogram, graph_attr={'rankdir': 'LR'})"
   ]
  },
  {
   "cell_type": "code",
   "execution_count": null,
   "id": "6a17cf1d-0407-41dd-8a84-0975371ac70a",
   "metadata": {},
   "outputs": [],
   "source": [
    "result = pipeline.compute(DspacingHistogram)"
   ]
  },
  {
   "cell_type": "code",
   "execution_count": null,
   "id": "c05859ef-753b-4ea6-8d90-a17aa4a58c8f",
   "metadata": {},
   "outputs": [],
   "source": [
    "result"
   ]
  },
  {
   "cell_type": "code",
   "execution_count": null,
   "id": "4b2c884c-776e-4bb0-b517-10f5ddbf8aba",
   "metadata": {},
   "outputs": [],
   "source": [
    "result.plot()"
   ]
  },
  {
   "cell_type": "code",
   "execution_count": null,
   "id": "27793efc-ecf2-4e1a-a73f-940ab652007c",
   "metadata": {},
   "outputs": [],
   "source": [
    "result.coords['dspacing'] = sc.midpoints(result.coords['dspacing'])\n",
    "scn.io.save_xye('dspacing.xye', result)"
   ]
  }
 ],
 "metadata": {
  "kernelspec": {
   "display_name": "Python 3 (ipykernel)",
   "language": "python",
   "name": "python3"
  },
  "language_info": {
   "codemirror_mode": {
    "name": "ipython",
    "version": 3
   },
   "file_extension": ".py",
   "mimetype": "text/x-python",
   "name": "python",
   "nbconvert_exporter": "python",
   "pygments_lexer": "ipython3",
   "version": "3.10.13"
  }
 },
 "nbformat": 4,
 "nbformat_minor": 5
}
